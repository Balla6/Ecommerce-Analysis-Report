{
 "cells": [
  {
   "cell_type": "code",
   "execution_count": 1,
   "id": "9957d1ac-6647-411b-bbe7-008114f42875",
   "metadata": {},
   "outputs": [
    {
     "name": "stderr",
     "output_type": "stream",
     "text": [
      "C:\\Users\\balla\\AppData\\Local\\Temp\\ipykernel_15984\\2571666502.py:6: DtypeWarning: Columns (1,2,3,7,8,9,11,12,13,14,17,18,19) have mixed types. Specify dtype option on import or set low_memory=False.\n",
      "  data = pd.read_csv(file_path)\n"
     ]
    },
    {
     "name": "stdout",
     "output_type": "stream",
     "text": [
      "Dataset Info:\n",
      "<class 'pandas.core.frame.DataFrame'>\n",
      "RangeIndex: 1048575 entries, 0 to 1048574\n",
      "Data columns (total 26 columns):\n",
      " #   Column                 Non-Null Count   Dtype  \n",
      "---  ------                 --------------   -----  \n",
      " 0   item_id                584524 non-null  float64\n",
      " 1   status                 584509 non-null  object \n",
      " 2   created_at             584524 non-null  object \n",
      " 3   sku                    584504 non-null  object \n",
      " 4   price                  584524 non-null  float64\n",
      " 5   qty_ordered            584524 non-null  float64\n",
      " 6   grand_total            584524 non-null  float64\n",
      " 7   increment_id           584524 non-null  object \n",
      " 8   category_name_1        584360 non-null  object \n",
      " 9   sales_commission_code  447346 non-null  object \n",
      " 10  discount_amount        584524 non-null  float64\n",
      " 11  payment_method         584524 non-null  object \n",
      " 12  Working Date           584524 non-null  object \n",
      " 13  BI Status              584524 non-null  object \n",
      " 14   MV                    584524 non-null  object \n",
      " 15  Year                   584524 non-null  float64\n",
      " 16  Month                  584524 non-null  float64\n",
      " 17  Customer Since         584513 non-null  object \n",
      " 18  M-Y                    584524 non-null  object \n",
      " 19  FY                     584524 non-null  object \n",
      " 20  Customer ID            584513 non-null  float64\n",
      " 21  Unnamed: 21            0 non-null       float64\n",
      " 22  Unnamed: 22            0 non-null       float64\n",
      " 23  Unnamed: 23            0 non-null       float64\n",
      " 24  Unnamed: 24            0 non-null       float64\n",
      " 25  Unnamed: 25            0 non-null       float64\n",
      "dtypes: float64(13), object(13)\n",
      "memory usage: 208.0+ MB\n",
      "None\n",
      "\n",
      "First 5 Rows:\n",
      "    item_id          status created_at  \\\n",
      "0  211131.0        complete   7/1/2016   \n",
      "1  211133.0        canceled   7/1/2016   \n",
      "2  211134.0        canceled   7/1/2016   \n",
      "3  211135.0        complete   7/1/2016   \n",
      "4  211136.0  order_refunded   7/1/2016   \n",
      "\n",
      "                                                 sku   price  qty_ordered  \\\n",
      "0                                  kreations_YI 06-L  1950.0          1.0   \n",
      "1  kcc_Buy 2 Frey Air Freshener & Get 1 Kasual Bo...   240.0          1.0   \n",
      "2                                 Ego_UP0017-999-MR0  2450.0          1.0   \n",
      "3                                     kcc_krone deal   360.0          1.0   \n",
      "4                                        BK7010400AG   555.0          2.0   \n",
      "\n",
      "   grand_total increment_id    category_name_1 sales_commission_code  ...  \\\n",
      "0       1950.0    100147443    Women's Fashion                    \\N  ...   \n",
      "1        240.0    100147444  Beauty & Grooming                    \\N  ...   \n",
      "2       2450.0    100147445    Women's Fashion                    \\N  ...   \n",
      "3         60.0    100147446  Beauty & Grooming           R-FSD-52352  ...   \n",
      "4       1110.0    100147447            Soghaat                    \\N  ...   \n",
      "\n",
      "   Month Customer Since     M-Y    FY Customer ID  Unnamed: 21  Unnamed: 22  \\\n",
      "0    7.0         2016-7  7-2016  FY17         1.0          NaN          NaN   \n",
      "1    7.0         2016-7  7-2016  FY17         2.0          NaN          NaN   \n",
      "2    7.0         2016-7  7-2016  FY17         3.0          NaN          NaN   \n",
      "3    7.0         2016-7  7-2016  FY17         4.0          NaN          NaN   \n",
      "4    7.0         2016-7  7-2016  FY17         5.0          NaN          NaN   \n",
      "\n",
      "  Unnamed: 23 Unnamed: 24 Unnamed: 25  \n",
      "0         NaN         NaN         NaN  \n",
      "1         NaN         NaN         NaN  \n",
      "2         NaN         NaN         NaN  \n",
      "3         NaN         NaN         NaN  \n",
      "4         NaN         NaN         NaN  \n",
      "\n",
      "[5 rows x 26 columns]\n",
      "\n",
      "Column Names:\n",
      "Index(['item_id', 'status', 'created_at', 'sku', 'price', 'qty_ordered',\n",
      "       'grand_total', 'increment_id', 'category_name_1',\n",
      "       'sales_commission_code', 'discount_amount', 'payment_method',\n",
      "       'Working Date', 'BI Status', ' MV ', 'Year', 'Month', 'Customer Since',\n",
      "       'M-Y', 'FY', 'Customer ID', 'Unnamed: 21', 'Unnamed: 22', 'Unnamed: 23',\n",
      "       'Unnamed: 24', 'Unnamed: 25'],\n",
      "      dtype='object')\n",
      "\n",
      "Dataset Shape (rows, columns):\n",
      "(1048575, 26)\n",
      "\n",
      "Missing Values:\n",
      "item_id                   464051\n",
      "status                    464066\n",
      "created_at                464051\n",
      "sku                       464071\n",
      "price                     464051\n",
      "qty_ordered               464051\n",
      "grand_total               464051\n",
      "increment_id              464051\n",
      "category_name_1           464215\n",
      "sales_commission_code     601229\n",
      "discount_amount           464051\n",
      "payment_method            464051\n",
      "Working Date              464051\n",
      "BI Status                 464051\n",
      " MV                       464051\n",
      "Year                      464051\n",
      "Month                     464051\n",
      "Customer Since            464062\n",
      "M-Y                       464051\n",
      "FY                        464051\n",
      "Customer ID               464062\n",
      "Unnamed: 21              1048575\n",
      "Unnamed: 22              1048575\n",
      "Unnamed: 23              1048575\n",
      "Unnamed: 24              1048575\n",
      "Unnamed: 25              1048575\n",
      "dtype: int64\n",
      "\n",
      "Number of Duplicate Rows:\n",
      "464050\n",
      "\n",
      "Summary Statistics for Numeric Columns:\n",
      "             item_id         price    qty_ordered   grand_total  \\\n",
      "count  584524.000000  5.845240e+05  584524.000000  5.845240e+05   \n",
      "mean   565667.074218  6.348748e+03       1.296388  8.530619e+03   \n",
      "std    200121.173648  1.494927e+04       3.996061  6.132081e+04   \n",
      "min    211131.000000  0.000000e+00       1.000000 -1.594000e+03   \n",
      "25%    395000.750000  3.600000e+02       1.000000  9.450000e+02   \n",
      "50%    568424.500000  8.990000e+02       1.000000  1.960400e+03   \n",
      "75%    739106.250000  4.070000e+03       1.000000  6.999000e+03   \n",
      "max    905208.000000  1.012626e+06    1000.000000  1.788800e+07   \n",
      "\n",
      "       discount_amount           Year          Month    Customer ID  \\\n",
      "count    584524.000000  584524.000000  584524.000000  584513.000000   \n",
      "mean        499.492775    2017.044115       7.167654   45790.511965   \n",
      "std        1506.943046       0.707355       3.486305   34414.962389   \n",
      "min        -599.500000    2016.000000       1.000000       1.000000   \n",
      "25%           0.000000    2017.000000       4.000000   13516.000000   \n",
      "50%           0.000000    2017.000000       7.000000   42856.000000   \n",
      "75%         160.500000    2018.000000      11.000000   73536.000000   \n",
      "max       90300.000000    2018.000000      12.000000  115326.000000   \n",
      "\n",
      "       Unnamed: 21  Unnamed: 22  Unnamed: 23  Unnamed: 24  Unnamed: 25  \n",
      "count          0.0          0.0          0.0          0.0          0.0  \n",
      "mean           NaN          NaN          NaN          NaN          NaN  \n",
      "std            NaN          NaN          NaN          NaN          NaN  \n",
      "min            NaN          NaN          NaN          NaN          NaN  \n",
      "25%            NaN          NaN          NaN          NaN          NaN  \n",
      "50%            NaN          NaN          NaN          NaN          NaN  \n",
      "75%            NaN          NaN          NaN          NaN          NaN  \n",
      "max            NaN          NaN          NaN          NaN          NaN  \n"
     ]
    }
   ],
   "source": [
    "# Import necessary libraries\n",
    "import pandas as pd\n",
    "\n",
    "# Load the dataset \n",
    "file_path = \"C:/Users/balla/Downloads/Pakistan Largest Ecommerce Dataset.csv/Pakistan Largest Ecommerce Dataset.csv\"\n",
    "data = pd.read_csv(file_path)\n",
    "\n",
    "# Display basic information about the dataset\n",
    "print(\"Dataset Info:\")\n",
    "print(data.info())  \n",
    "\n",
    "# Display the first few rows of the dataset\n",
    "print(\"\\nFirst 5 Rows:\")\n",
    "print(data.head())\n",
    "\n",
    "# Display column names\n",
    "print(\"\\nColumn Names:\")\n",
    "print(data.columns)\n",
    "\n",
    "# Check the shape of the dataset (rows, columns)\n",
    "print(\"\\nDataset Shape (rows, columns):\")\n",
    "print(data.shape)\n",
    "\n",
    "# Check for missing values\n",
    "print(\"\\nMissing Values:\")\n",
    "print(data.isnull().sum())\n",
    "\n",
    "# Check for duplicates\n",
    "print(\"\\nNumber of Duplicate Rows:\")\n",
    "print(data.duplicated().sum())\n",
    "\n",
    "# Generate summary statistics for numeric columns\n",
    "print(\"\\nSummary Statistics for Numeric Columns:\")\n",
    "print(data.describe())\n"
   ]
  },
  {
   "cell_type": "code",
   "execution_count": 2,
   "id": "f3d440ba-a13f-4b49-a2b2-6f3bf97a4354",
   "metadata": {},
   "outputs": [
    {
     "name": "stdout",
     "output_type": "stream",
     "text": [
      "['item_id', 'status', 'created_at', 'sku', 'price', 'qty_ordered', 'grand_total', 'increment_id', 'category_name_1', 'sales_commission_code', 'discount_amount', 'payment_method', 'Working Date', 'BI Status', ' MV ', 'Year', 'Month', 'Customer Since', 'M-Y', 'FY', 'Customer ID', 'Unnamed: 21', 'Unnamed: 22', 'Unnamed: 23', 'Unnamed: 24', 'Unnamed: 25']\n",
      "Shape After Dropping Irrelevant Columns: (1048575, 15)\n"
     ]
    }
   ],
   "source": [
    "# Verify column names\n",
    "print(data.columns.tolist())\n",
    "\n",
    "# Update the columns_to_drop list as needed\n",
    "columns_to_drop = [\"increment_id\", \"sales_commission_code\", \"Working Date\", \"BI Status\", \" MV \", \"FY\", 'Unnamed: 21', 'Unnamed: 22', 'Unnamed: 23', 'Unnamed: 24', 'Unnamed: 25']\n",
    "\n",
    "# Drop irrelevant columns with errors='ignore' to avoid KeyError\n",
    "data.drop(columns=columns_to_drop, inplace=True, errors='ignore')\n",
    "\n",
    "# Display the shape after dropping columns\n",
    "print(f\"Shape After Dropping Irrelevant Columns: {data.shape}\")\n",
    "\n"
   ]
  },
  {
   "cell_type": "code",
   "execution_count": 3,
   "id": "73506438-30b3-46d8-9c83-cff9eae37d5b",
   "metadata": {},
   "outputs": [
    {
     "name": "stdout",
     "output_type": "stream",
     "text": [
      "Missing Values in Critical Columns:\n",
      " item_id            464051\n",
      "status             464066\n",
      "created_at         464051\n",
      "sku                464071\n",
      "price              464051\n",
      "qty_ordered        464051\n",
      "grand_total        464051\n",
      "category_name_1    464215\n",
      "discount_amount    464051\n",
      "payment_method     464051\n",
      "Year               464051\n",
      "Month              464051\n",
      "Customer Since     464062\n",
      "M-Y                464051\n",
      "Customer ID        464062\n",
      "dtype: int64\n",
      "Shape After Dropping Rows with Missing Critical Columns: (584314, 15)\n"
     ]
    }
   ],
   "source": [
    "# Check missing values in critical columns\n",
    "critical_columns = ['item_id', 'status', 'created_at', 'sku', 'price', 'qty_ordered', 'grand_total', 'category_name_1', 'discount_amount', 'payment_method', 'Year', 'Month', 'Customer Since', 'M-Y', 'Customer ID']\n",
    "missing_critical = data[critical_columns].isnull().sum()\n",
    "print(\"Missing Values in Critical Columns:\\n\", missing_critical)\n",
    "\n",
    "# Drop rows where critical columns have missing values\n",
    "data.dropna(subset=critical_columns, inplace=True)\n",
    "\n",
    "# Display shape after dropping rows with missing values\n",
    "print(f\"Shape After Dropping Rows with Missing Critical Columns: {data.shape}\")\n"
   ]
  },
  {
   "cell_type": "code",
   "execution_count": 4,
   "id": "80f0980e-c942-47c4-9f14-98cb57f27dab",
   "metadata": {},
   "outputs": [
    {
     "name": "stdout",
     "output_type": "stream",
     "text": [
      "Shape After Removing Duplicates: (584314, 15)\n"
     ]
    }
   ],
   "source": [
    "# Remove duplicate rows\n",
    "data.drop_duplicates(inplace=True)\n",
    "\n",
    "# Display shape after removing duplicates\n",
    "print(f\"Shape After Removing Duplicates: {data.shape}\")\n"
   ]
  },
  {
   "cell_type": "code",
   "execution_count": 5,
   "id": "eb7328dd-33d8-488d-9b77-e0f45800d37c",
   "metadata": {},
   "outputs": [
    {
     "name": "stdout",
     "output_type": "stream",
     "text": [
      "Converted Date Columns:\n",
      "   created_at Customer Since\n",
      "0 2016-07-01     2016-07-01\n",
      "1 2016-07-01     2016-07-01\n",
      "2 2016-07-01     2016-07-01\n",
      "3 2016-07-01     2016-07-01\n",
      "4 2016-07-01     2016-07-01\n"
     ]
    }
   ],
   "source": [
    "# Convert 'created_at' and 'Customer Since' to datetime\n",
    "data['created_at'] = pd.to_datetime(data['created_at'], errors='coerce')\n",
    "data['Customer Since'] = pd.to_datetime(data['Customer Since'], errors='coerce')\n",
    "\n",
    "# Check for successful conversion\n",
    "print(\"Converted Date Columns:\\n\", data[['created_at', 'Customer Since']].head())\n"
   ]
  },
  {
   "cell_type": "code",
   "execution_count": 6,
   "id": "4d396d21-a3e6-40ee-8bba-5e997856365a",
   "metadata": {},
   "outputs": [
    {
     "name": "stdout",
     "output_type": "stream",
     "text": [
      "[     1      2      3 ... 115324 115325 115326]\n"
     ]
    }
   ],
   "source": [
    "# Convert Customer ID to numeric (integer) safely\n",
    "data[\"Customer ID\"] = data[\"Customer ID\"].astype(float).astype(int)\n",
    "\n",
    "# Verify the results\n",
    "print(data[\"Customer ID\"].unique())\n"
   ]
  },
  {
   "cell_type": "code",
   "execution_count": 7,
   "id": "ac152225-b2ec-43d8-9ec3-ef666e44fe23",
   "metadata": {},
   "outputs": [
    {
     "name": "stdout",
     "output_type": "stream",
     "text": [
      "\n",
      "Outlier Check for Price:\n",
      "count    5.843140e+05\n",
      "mean     6.350766e+03\n",
      "std      1.495150e+04\n",
      "min      0.000000e+00\n",
      "25%      3.600000e+02\n",
      "50%      8.994000e+02\n",
      "75%      4.090000e+03\n",
      "max      1.012626e+06\n",
      "Name: price, dtype: float64\n",
      "\n",
      "Outlier Check for Grand Total:\n",
      "count    5.843140e+05\n",
      "mean     8.532892e+03\n",
      "std      6.133168e+04\n",
      "min     -1.594000e+03\n",
      "25%      9.452000e+02\n",
      "50%      1.961000e+03\n",
      "75%      6.999000e+03\n",
      "max      1.788800e+07\n",
      "Name: grand_total, dtype: float64\n",
      "\n",
      "Outlier Check for Discount Amount:\n",
      "count    584314.000000\n",
      "mean        499.655327\n",
      "std        1507.185808\n",
      "min        -599.500000\n",
      "25%           0.000000\n",
      "50%           0.000000\n",
      "75%         160.734400\n",
      "max       90300.000000\n",
      "Name: discount_amount, dtype: float64\n"
     ]
    }
   ],
   "source": [
    "# Investigate outliers in price, grand_total, and discount_amount\n",
    "print(\"\\nOutlier Check for Price:\")\n",
    "print(data['price'].describe())\n",
    "\n",
    "print(\"\\nOutlier Check for Grand Total:\")\n",
    "print(data['grand_total'].describe())\n",
    "\n",
    "print(\"\\nOutlier Check for Discount Amount:\")\n",
    "print(data['discount_amount'].describe())\n"
   ]
  },
  {
   "cell_type": "code",
   "execution_count": 8,
   "id": "549aff95-c85e-476c-baad-730830ef1865",
   "metadata": {},
   "outputs": [
    {
     "name": "stdout",
     "output_type": "stream",
     "text": [
      "         item_id      status created_at  \\\n",
      "1639    213040.0    canceled 2016-07-09   \n",
      "1647    213048.0    canceled 2016-07-09   \n",
      "1816    213236.0    canceled 2016-07-10   \n",
      "2274    213734.0    canceled 2016-07-12   \n",
      "2520    214021.0    canceled 2016-07-13   \n",
      "...          ...         ...        ...   \n",
      "584453  905131.0    canceled 2018-08-28   \n",
      "584458  905137.0    canceled 2018-08-28   \n",
      "584494  905174.0    canceled 2018-08-28   \n",
      "584521  905206.0  processing 2018-08-28   \n",
      "584523  905208.0  processing 2018-08-28   \n",
      "\n",
      "                                           sku     price  qty_ordered  \\\n",
      "1639                Apple iPhone 6S Plus 128GB  121499.0          1.0   \n",
      "1647    MACBOOK AIR 13-INCH 256 GB Flash Drive  145000.0          1.0   \n",
      "1816                          s_tv_KDL-50W800C  151545.0          1.0   \n",
      "2274                          s_tv_KDL-60W600B  190725.0          1.0   \n",
      "2520                           hyundai_HGS7250  105999.0          1.0   \n",
      "...                                        ...       ...          ...   \n",
      "584453                     MATSAM5B6D7208C6D30  129999.0          1.0   \n",
      "584458                     MATSAM5B6D7208C6D30  129999.0          1.0   \n",
      "584494                     MATSAM5B6D7208C6D30  129999.0          1.0   \n",
      "584521                     MATSAM5B6D7208C6D30  129999.0          2.0   \n",
      "584523                     MATSAM5B10F91A9B6AB  108640.0          2.0   \n",
      "\n",
      "        grand_total    category_name_1  discount_amount payment_method  \\\n",
      "1639       121499.0  Mobiles & Tablets              0.0      mygateway   \n",
      "1647       145000.0          Computing              0.0  ublcreditcard   \n",
      "1816       151545.0      Entertainment              0.0  ublcreditcard   \n",
      "2274       190725.0      Entertainment              0.0  ublcreditcard   \n",
      "2520       105999.0         Appliances              0.0        mcblite   \n",
      "...             ...                ...              ...            ...   \n",
      "584453     130299.0  Mobiles & Tablets              0.0    bankalfalah   \n",
      "584458     130299.0  Mobiles & Tablets              0.0    bankalfalah   \n",
      "584494     130299.0  Mobiles & Tablets              0.0    bankalfalah   \n",
      "584521     652178.0  Mobiles & Tablets              0.0    bankalfalah   \n",
      "584523     652178.0  Mobiles & Tablets              0.0    bankalfalah   \n",
      "\n",
      "          Year  Month Customer Since     M-Y  Customer ID  \n",
      "1639    2016.0    7.0     2016-07-01  7-2016          678  \n",
      "1647    2016.0    7.0     2016-07-01  7-2016          678  \n",
      "1816    2016.0    7.0     2016-07-01  7-2016          740  \n",
      "2274    2016.0    7.0     2016-07-01  7-2016          740  \n",
      "2520    2016.0    7.0     2016-07-01  7-2016         1000  \n",
      "...        ...    ...            ...     ...          ...  \n",
      "584453  2018.0    8.0     2018-07-01  8-2018       113694  \n",
      "584458  2018.0    8.0     2018-07-01  8-2018       113694  \n",
      "584494  2018.0    8.0     2018-08-01  8-2018       115321  \n",
      "584521  2018.0    8.0     2018-07-01  8-2018       113474  \n",
      "584523  2018.0    8.0     2018-07-01  8-2018       113474  \n",
      "\n",
      "[4373 rows x 15 columns]\n"
     ]
    }
   ],
   "source": [
    "# Identify rows with extreme price values\n",
    "price_outliers = data[(data['price'] == 0) | (data['price'] > 100000)]\n",
    "print(price_outliers)\n"
   ]
  },
  {
   "cell_type": "code",
   "execution_count": 9,
   "id": "8cf9d36a-f58d-4228-80cf-c677480892d2",
   "metadata": {},
   "outputs": [
    {
     "name": "stdout",
     "output_type": "stream",
     "text": [
      "         item_id          status created_at                         sku  \\\n",
      "949     212228.0        canceled 2016-07-03                  Lenovo Zuk   \n",
      "5699    217553.0        canceled 2016-07-23  Huawei Mate 8 With 4GB Ram   \n",
      "15878   231239.0  order_refunded 2016-08-16              iPhone SE-16GB   \n",
      "15879   231240.0  order_refunded 2016-08-16  Apple iPhone 6 (16GB) Gold   \n",
      "190608  451416.0        complete 2017-04-20             Samsung_40K5000   \n",
      "...          ...             ...        ...                         ...   \n",
      "571270  890219.0        complete 2018-07-27       MEFOXF5B39EF5CC541E-M   \n",
      "571271  890221.0        complete 2018-07-27            VIT5AC4A6E65D6C6   \n",
      "571272  890222.0        complete 2018-07-27            HIJ5B2204D154E0F   \n",
      "571273  890223.0        complete 2018-07-27         HASQAR5A53699375950   \n",
      "571274  890224.0        complete 2018-07-27         SOGALM5A8BD55B70D5F   \n",
      "\n",
      "          price  qty_ordered  grand_total    category_name_1  discount_amount  \\\n",
      "949     33999.0         34.0    1155966.0  Mobiles & Tablets              0.0   \n",
      "5699    63999.0         20.0    1279980.0  Mobiles & Tablets              0.0   \n",
      "15878   54151.0         16.0    1280473.0  Mobiles & Tablets              0.0   \n",
      "15879   59151.0          7.0    1280473.0  Mobiles & Tablets              0.0   \n",
      "190608  49499.0         21.0    1039479.0      Entertainment              0.0   \n",
      "...         ...          ...          ...                ...              ...   \n",
      "571270    420.0          1.0       -340.6      Men's Fashion            612.6   \n",
      "571271    180.0          1.0       -340.6         Superstore            612.6   \n",
      "571272    450.0          1.0       -340.6         Superstore            612.6   \n",
      "571273     98.0          4.0       -340.6    Health & Sports            612.6   \n",
      "571274    475.0          1.0       -340.6            Soghaat            612.6   \n",
      "\n",
      "        payment_method    Year  Month Customer Since     M-Y  Customer ID  \n",
      "949          mygateway  2016.0    7.0     2016-07-01  7-2016          356  \n",
      "5699     ublcreditcard  2016.0    7.0     2016-07-01  7-2016         1750  \n",
      "15878          mcblite  2016.0    8.0     2016-08-01  8-2016         4095  \n",
      "15879          mcblite  2016.0    8.0     2016-08-01  8-2016         4095  \n",
      "190608  cashatdoorstep  2017.0    4.0     2017-04-01  4-2017        42128  \n",
      "...                ...     ...    ...            ...     ...          ...  \n",
      "571270     bankalfalah  2018.0    7.0     2016-08-01  7-2018         3732  \n",
      "571271     bankalfalah  2018.0    7.0     2016-08-01  7-2018         3732  \n",
      "571272     bankalfalah  2018.0    7.0     2016-08-01  7-2018         3732  \n",
      "571273     bankalfalah  2018.0    7.0     2016-08-01  7-2018         3732  \n",
      "571274     bankalfalah  2018.0    7.0     2016-08-01  7-2018         3732  \n",
      "\n",
      "[93 rows x 15 columns]\n"
     ]
    }
   ],
   "source": [
    "# Identify rows with extreme grand_total values\n",
    "grand_total_outliers = data[(data['grand_total'] < 0) | (data['grand_total'] > 1000000)]\n",
    "print(grand_total_outliers)"
   ]
  },
  {
   "cell_type": "code",
   "execution_count": 10,
   "id": "3fa73d96-5a54-4746-9f3e-7f793e3ef884",
   "metadata": {},
   "outputs": [
    {
     "name": "stdout",
     "output_type": "stream",
     "text": [
      "         item_id          status created_at  \\\n",
      "6998    218984.0        complete 2016-07-27   \n",
      "6999    218985.0        complete 2016-07-27   \n",
      "8884    221157.0  order_refunded 2016-08-01   \n",
      "13100   227515.0        complete 2016-08-09   \n",
      "13101   227517.0        complete 2016-08-09   \n",
      "...          ...             ...        ...   \n",
      "582033  902358.0        received 2018-08-17   \n",
      "582034  902359.0        received 2018-08-17   \n",
      "582058  902385.0            paid 2018-08-17   \n",
      "582059  902386.0            paid 2018-08-17   \n",
      "582060  902387.0            paid 2018-08-17   \n",
      "\n",
      "                                                      sku    price  \\\n",
      "6998                                     Haier_LE 32B8000  20538.0   \n",
      "6999                      samsungGALAXY J710F-2016 DS LTE  33000.0   \n",
      "8884    dawlance_Health Zone Plus 30 - 1.5 Ton Air Con...  37550.0   \n",
      "13100                                  Lenovo Zuk Z1-Grey  24999.0   \n",
      "13101                                          Lunarl-500   7200.0   \n",
      "...                                                   ...      ...   \n",
      "582033                                ENTECO5AE5B828DAFDB  32799.0   \n",
      "582034                                APPHAI5AE585BA60758  29999.0   \n",
      "582058                                ENTECO5AE5B828DAFDB  32799.0   \n",
      "582059                                APPHAI5AE585BA60758  29999.0   \n",
      "582060                                APPDAW5A54A37A0CB22   5958.0   \n",
      "\n",
      "        qty_ordered  grand_total    category_name_1  discount_amount  \\\n",
      "6998            1.0       3538.0      Entertainment         19180.77   \n",
      "6999            1.0       3538.0  Mobiles & Tablets         30819.23   \n",
      "8884            1.0      17550.0         Appliances         20000.00   \n",
      "13100           1.0       2199.0  Mobiles & Tablets         23291.72   \n",
      "13101           1.0       2199.0          Computing          6708.28   \n",
      "...             ...          ...                ...              ...   \n",
      "582033          1.0      57598.0      Entertainment          5500.00   \n",
      "582034          1.0      57598.0         Appliances          5500.00   \n",
      "582058          1.0       2158.0      Entertainment          5900.00   \n",
      "582059          1.0       2158.0         Appliances          5900.00   \n",
      "582060          1.0       2158.0         Appliances          5900.00   \n",
      "\n",
      "         payment_method    Year  Month Customer Since     M-Y  Customer ID  \n",
      "6998                cod  2016.0    7.0     2016-07-01  7-2016         2044  \n",
      "6999                cod  2016.0    7.0     2016-07-01  7-2016         2044  \n",
      "8884                cod  2016.0    8.0     2016-07-01  8-2016           66  \n",
      "13100               cod  2016.0    8.0     2016-08-01  8-2016         2465  \n",
      "13101               cod  2016.0    8.0     2016-08-01  8-2016         2465  \n",
      "...                 ...     ...    ...            ...     ...          ...  \n",
      "582033  easypay_voucher  2018.0    8.0     2018-05-01  8-2018       109061  \n",
      "582034  easypay_voucher  2018.0    8.0     2018-05-01  8-2018       109061  \n",
      "582058      bankalfalah  2018.0    8.0     2018-05-01  8-2018       109061  \n",
      "582059      bankalfalah  2018.0    8.0     2018-05-01  8-2018       109061  \n",
      "582060      bankalfalah  2018.0    8.0     2018-05-01  8-2018       109061  \n",
      "\n",
      "[13547 rows x 15 columns]\n"
     ]
    }
   ],
   "source": [
    "# Identify rows with extreme discount_amount values\n",
    "discount_outliers = data[(data['discount_amount'] < 0) | (data['discount_amount'] > 5000)]\n",
    "print(discount_outliers)\n"
   ]
  },
  {
   "cell_type": "code",
   "execution_count": 11,
   "id": "57183555-4b52-4f1d-8ed4-4b818866ddd2",
   "metadata": {},
   "outputs": [],
   "source": [
    "# Keeping rows with non-negative grand_total or those explicitly marked as refunded\n",
    "data = data[(data['grand_total'] >= 0) | (data['status'] == 'order_refunded')]"
   ]
  },
  {
   "cell_type": "code",
   "execution_count": 12,
   "id": "0b758737-e4e6-4557-8964-3616349c277e",
   "metadata": {},
   "outputs": [],
   "source": [
    "# Removing rows with negative discounts\n",
    "data = data[data['discount_amount'] >= 0]"
   ]
  },
  {
   "cell_type": "code",
   "execution_count": 13,
   "id": "22866262-741b-4d29-9cb5-6c49650d2db1",
   "metadata": {},
   "outputs": [],
   "source": [
    "# Removing extreme discounts if outliers are invalid\n",
    "data = data[data['discount_amount'] <= 20000]"
   ]
  },
  {
   "cell_type": "code",
   "execution_count": 14,
   "id": "d42d39fe-7c0e-4d16-936c-156b72c03206",
   "metadata": {},
   "outputs": [
    {
     "name": "stdout",
     "output_type": "stream",
     "text": [
      "Shape After Filtering for Completed Orders: (233635, 15)\n"
     ]
    }
   ],
   "source": [
    "# Focusing on completed orders\n",
    "data = data[data['status'].str.lower() == 'complete']\n",
    "# Display shape after filtering for completed orders\n",
    "print(f\"Shape After Filtering for Completed Orders: {data.shape}\")\n"
   ]
  },
  {
   "cell_type": "code",
   "execution_count": 17,
   "id": "57f2846f-2307-4dc9-bd19-3e015350adc3",
   "metadata": {},
   "outputs": [
    {
     "name": "stdout",
     "output_type": "stream",
     "text": [
      "Cleaned dataset saved as 'Cleaned_Ecommerce_Dataset.xlsx'.\n"
     ]
    }
   ],
   "source": [
    "# Saving the cleaned dataset to a new CSV file\n",
    "data.to_excel('Cleaned_Ecommerce_Dataset.xlsx', index=False, engine='openpyxl')\n",
    "print(\"Cleaned dataset saved as 'Cleaned_Ecommerce_Dataset.xlsx'.\")\n"
   ]
  },
  {
   "cell_type": "code",
   "execution_count": 18,
   "id": "6dd95b7f-eea8-44ce-8c70-c5eef53af6db",
   "metadata": {},
   "outputs": [
    {
     "name": "stdout",
     "output_type": "stream",
     "text": [
      "<class 'pandas.core.frame.DataFrame'>\n",
      "Index: 233635 entries, 0 to 577295\n",
      "Data columns (total 15 columns):\n",
      " #   Column           Non-Null Count   Dtype         \n",
      "---  ------           --------------   -----         \n",
      " 0   item_id          233635 non-null  float64       \n",
      " 1   status           233635 non-null  object        \n",
      " 2   created_at       233635 non-null  datetime64[ns]\n",
      " 3   sku              233635 non-null  object        \n",
      " 4   price            233635 non-null  float64       \n",
      " 5   qty_ordered      233635 non-null  float64       \n",
      " 6   grand_total      233635 non-null  float64       \n",
      " 7   category_name_1  233635 non-null  object        \n",
      " 8   discount_amount  233635 non-null  float64       \n",
      " 9   payment_method   233635 non-null  object        \n",
      " 10  Year             233635 non-null  float64       \n",
      " 11  Month            233635 non-null  float64       \n",
      " 12  Customer Since   233635 non-null  datetime64[ns]\n",
      " 13  M-Y              233635 non-null  object        \n",
      " 14  Customer ID      233635 non-null  int64         \n",
      "dtypes: datetime64[ns](2), float64(7), int64(1), object(5)\n",
      "memory usage: 28.5+ MB\n",
      "None\n",
      "     item_id    status created_at  \\\n",
      "0   211131.0  complete 2016-07-01   \n",
      "3   211135.0  complete 2016-07-01   \n",
      "6   211138.0  complete 2016-07-01   \n",
      "7   211139.0  complete 2016-07-01   \n",
      "10  211142.0  complete 2016-07-01   \n",
      "\n",
      "                                                 sku   price  qty_ordered  \\\n",
      "0                                  kreations_YI 06-L  1950.0          1.0   \n",
      "3                                     kcc_krone deal   360.0          1.0   \n",
      "6                                     kcc_krone deal   360.0          1.0   \n",
      "7                       UK_Namkino Mix Nimco 400 Gms   170.0          1.0   \n",
      "10  GFC_Pedestal Myga Cross Base (Special Guard) 24\"  5500.0          1.0   \n",
      "\n",
      "    grand_total    category_name_1  discount_amount payment_method    Year  \\\n",
      "0        1950.0    Women's Fashion              0.0            cod  2016.0   \n",
      "3          60.0  Beauty & Grooming            300.0            cod  2016.0   \n",
      "6          60.0  Beauty & Grooming            300.0            cod  2016.0   \n",
      "7         170.0            Soghaat              0.0            cod  2016.0   \n",
      "10       5500.0         Appliances              0.0            cod  2016.0   \n",
      "\n",
      "    Month Customer Since     M-Y  Customer ID  \n",
      "0     7.0     2016-07-01  7-2016            1  \n",
      "3     7.0     2016-07-01  7-2016            4  \n",
      "6     7.0     2016-07-01  7-2016            7  \n",
      "7     7.0     2016-07-01  7-2016            6  \n",
      "10    7.0     2016-07-01  7-2016            9  \n"
     ]
    }
   ],
   "source": [
    "print(data.info())\n",
    "print(data.head())"
   ]
  },
  {
   "cell_type": "code",
   "execution_count": null,
   "id": "043da100-b5d1-4ed0-90e9-a08b70097d55",
   "metadata": {},
   "outputs": [],
   "source": []
  }
 ],
 "metadata": {
  "kernelspec": {
   "display_name": "Python 3.10 (Jupyter)",
   "language": "python",
   "name": "python310"
  },
  "language_info": {
   "codemirror_mode": {
    "name": "ipython",
    "version": 3
   },
   "file_extension": ".py",
   "mimetype": "text/x-python",
   "name": "python",
   "nbconvert_exporter": "python",
   "pygments_lexer": "ipython3",
   "version": "3.10.11"
  }
 },
 "nbformat": 4,
 "nbformat_minor": 5
}
